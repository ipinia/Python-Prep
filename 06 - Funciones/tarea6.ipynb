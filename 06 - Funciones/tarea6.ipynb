{
 "cells": [
  {
   "cell_type": "code",
   "execution_count": 1,
   "metadata": {},
   "outputs": [],
   "source": [
    "def es_primo(nro):\n",
    "  esPrimo = True\n",
    "  for i in range ( 2, nro):\n",
    "    if ( nro % i == 0):\n",
    "      esPrimo = False\n",
    "  return esPrimo     "
   ]
  },
  {
   "cell_type": "code",
   "execution_count": 3,
   "metadata": {},
   "outputs": [
    {
     "data": {
      "text/plain": [
       "True"
      ]
     },
     "execution_count": 3,
     "metadata": {},
     "output_type": "execute_result"
    }
   ],
   "source": [
    "es_primo(17)"
   ]
  },
  {
   "cell_type": "code",
   "execution_count": 4,
   "metadata": {},
   "outputs": [],
   "source": [
    "def extraer_primos(lista):\n",
    "  lis_primos = []\n",
    "  for elemento in lista:\n",
    "    if es_primo(int(elemento)):\n",
    "      lis_primos.append(elemento)\n",
    "  return lis_primos"
   ]
  },
  {
   "cell_type": "code",
   "execution_count": 5,
   "metadata": {},
   "outputs": [
    {
     "data": {
      "text/plain": [
       "[1, 2, 3, 5, 7, 11, 13, 17, 19]"
      ]
     },
     "execution_count": 5,
     "metadata": {},
     "output_type": "execute_result"
    }
   ],
   "source": [
    "lis_completa = [1,2,3,4,5,6,7,8,9,10,11,12,13,14,15,16,17,18,19,20]\n",
    "lista_primos = extraer_primos(lis_completa)\n",
    "lista_primos"
   ]
  },
  {
   "cell_type": "markdown",
   "metadata": {},
   "source": [
    "Crear una función que al recibir una lista de números, devuelva el que más se repite y cuántas veces lo hace, Si hay más de un \"más repetido\", que devuelva cualquiera."
   ]
  },
  {
   "cell_type": "code",
   "execution_count": 2,
   "metadata": {},
   "outputs": [
    {
     "name": "stdout",
     "output_type": "stream",
     "text": [
      "1 ---Elemento ---- veces del elemento .----> 3\n",
      "1 ---Elemento ---- veces del elemento .----> 3\n",
      "1 ---Elemento ---- veces del elemento .----> 3\n",
      "2 ---Elemento ---- veces del elemento .----> 2\n",
      "2 ---Elemento ---- veces del elemento .----> 2\n",
      "3 ---Elemento ---- veces del elemento .----> 3\n",
      "3 ---Elemento ---- veces del elemento .----> 3\n",
      "3 ---Elemento ---- veces del elemento .----> 3\n",
      "4 ---Elemento ---- veces del elemento .----> 5\n",
      "4 ---Elemento ---- veces del elemento .----> 5\n",
      "4 ---Elemento ---- veces del elemento .----> 5\n",
      "4 ---Elemento ---- veces del elemento .----> 5\n",
      "4 ---Elemento ---- veces del elemento .----> 5\n",
      "5 ---Elemento ---- veces del elemento .----> 4\n",
      "5 ---Elemento ---- veces del elemento .----> 4\n",
      "5 ---Elemento ---- veces del elemento .----> 4\n",
      "5 ---Elemento ---- veces del elemento .----> 4\n",
      "6 ---Elemento ---- veces del elemento .----> 3\n",
      "6 ---Elemento ---- veces del elemento .----> 3\n",
      "6 ---Elemento ---- veces del elemento .----> 3\n",
      "7 ---Elemento ---- veces del elemento .----> 2\n",
      "7 ---Elemento ---- veces del elemento .----> 2\n",
      "8 ---Elemento ---- veces del elemento .----> 3\n",
      "8 ---Elemento ---- veces del elemento .----> 3\n",
      "8 ---Elemento ---- veces del elemento .----> 3\n",
      "9 ---Elemento ---- veces del elemento .----> 2\n",
      "9 ---Elemento ---- veces del elemento .----> 2\n"
     ]
    },
    {
     "data": {
      "text/plain": [
       "[1,\n",
       " 1,\n",
       " 1,\n",
       " 2,\n",
       " 2,\n",
       " 3,\n",
       " 3,\n",
       " 3,\n",
       " 4,\n",
       " 4,\n",
       " 4,\n",
       " 4,\n",
       " 4,\n",
       " 5,\n",
       " 5,\n",
       " 5,\n",
       " 5,\n",
       " 6,\n",
       " 6,\n",
       " 6,\n",
       " 7,\n",
       " 7,\n",
       " 8,\n",
       " 8,\n",
       " 8,\n",
       " 9,\n",
       " 9]"
      ]
     },
     "execution_count": 2,
     "metadata": {},
     "output_type": "execute_result"
    }
   ],
   "source": [
    "lis_num = [1,1,1,2,2,3,3,3,4,4,4,4,4,5,5,5,5,9,9,7,7,6,6,6,8,8,8]\n",
    "def num_repetidos(lis_num):\n",
    "  repetidos = []\n",
    "  lis_num.sort()\n",
    "  for elemento in lis_num:\n",
    "    print(elemento,'---Elemento ---- veces del elemento .---->',lis_num.count(elemento))\n",
    "    cantidad = lis_num.count(elemento)\n",
    "    if (cantidad>1):\n",
    "      repetidos.append(elemento)     \n",
    "      repetidos.sort()\n",
    "  return repetidos\n",
    "\n",
    "num_repetidos(lis_num)\n",
    "    "
   ]
  },
  {
   "cell_type": "code",
   "execution_count": 5,
   "metadata": {},
   "outputs": [],
   "source": [
    "lista_unicos = []\n",
    "lista_repetidos = []\n",
    "lista = [1,1,1,2,2,3,3,3,4,4,4,4,4,5,5,5,5,9,9,7,7,6,6,6,8,8,8]\n",
    "def valor_modal(lista):\n",
    "  if len(lista) == 0:\n",
    "    return None\n",
    "\n",
    "  for elemento in lista:\n",
    "    if elemento in lista_unicos:\n",
    "      i = lista_unicos.index(elemento)\n",
    "      lista_repetidos[i] += 1\n",
    "    else:\n",
    "      lista_unicos.append(elemento)\n",
    "      lista_repetidos.append(1)\n",
    "      \n",
    "  moda = lista_unicos[0]\n",
    "  maximo = lista_repetidos[0]\n",
    "\n",
    "  for i, elemento in enumerate(lista_unicos):\n",
    "    if lista_repetidos[i] < maximo:\n",
    "      moda = lista_unicos[i]\n",
    "      maximo = lista_repetidos[i]\n",
    "  return moda, maximo\n",
    "\n",
    "\n"
   ]
  },
  {
   "cell_type": "code",
   "execution_count": 6,
   "metadata": {},
   "outputs": [
    {
     "data": {
      "text/plain": [
       "(2, 2)"
      ]
     },
     "execution_count": 6,
     "metadata": {},
     "output_type": "execute_result"
    }
   ],
   "source": [
    "valor_modal(lista)"
   ]
  },
  {
   "cell_type": "code",
   "execution_count": null,
   "metadata": {},
   "outputs": [],
   "source": []
  }
 ],
 "metadata": {
  "interpreter": {
   "hash": "57baa5815c940fdaff4d14510622de9616cae602444507ba5d0b6727c008cbd6"
  },
  "kernelspec": {
   "display_name": "Python 3.7.8 64-bit",
   "language": "python",
   "name": "python3"
  },
  "language_info": {
   "codemirror_mode": {
    "name": "ipython",
    "version": 3
   },
   "file_extension": ".py",
   "mimetype": "text/x-python",
   "name": "python",
   "nbconvert_exporter": "python",
   "pygments_lexer": "ipython3",
   "version": "3.7.8"
  },
  "orig_nbformat": 4
 },
 "nbformat": 4,
 "nbformat_minor": 2
}
