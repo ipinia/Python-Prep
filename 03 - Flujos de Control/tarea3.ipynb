{
 "cells": [
  {
   "cell_type": "code",
   "execution_count": 1,
   "metadata": {},
   "outputs": [
    {
     "name": "stdout",
     "output_type": "stream",
     "text": [
      "-8 Es menor que cero \n"
     ]
    }
   ],
   "source": [
    "a= -8\n",
    "\n",
    "if a > 0 :\n",
    "  print( a,'Es mayor que cero')\n",
    "elif a == 0 :\n",
    "  print(a, 'Es igual a cero')  \n",
    "else:\n",
    "  print(a, 'Es menor que cero ')"
   ]
  },
  {
   "cell_type": "code",
   "execution_count": 6,
   "metadata": {},
   "outputs": [
    {
     "name": "stdout",
     "output_type": "stream",
     "text": [
      "Las variables son de distinto tipo\n"
     ]
    }
   ],
   "source": [
    "a=9\n",
    "b='9'\n",
    "if(type(a) == type(b)):\n",
    "  print('Las variables son del mismo tipo')\n",
    "else:\n",
    "  print('Las variables son de distinto tipo')"
   ]
  },
  {
   "cell_type": "code",
   "execution_count": 12,
   "metadata": {},
   "outputs": [
    {
     "name": "stdout",
     "output_type": "stream",
     "text": [
      "El número 1 es impar\n",
      "El número  2 es par\n",
      "El número 3 es impar\n",
      "El número  4 es par\n",
      "El número 5 es impar\n",
      "El número  6 es par\n",
      "El número 7 es impar\n",
      "El número  8 es par\n",
      "El número 9 es impar\n",
      "El número  10 es par\n",
      "El número 11 es impar\n",
      "El número  12 es par\n",
      "El número 13 es impar\n",
      "El número  14 es par\n",
      "El número 15 es impar\n",
      "El número  16 es par\n",
      "El número 17 es impar\n",
      "El número  18 es par\n",
      "El número 19 es impar\n",
      "El número  20 es par\n"
     ]
    }
   ],
   "source": [
    "for i in range(1, 21):\n",
    "  if i % 2 == 0:\n",
    "    print('El número ', str(i),'es par')\n",
    "  else:\n",
    "    print('El número', str(i),'es impar')"
   ]
  },
  {
   "cell_type": "code",
   "execution_count": 13,
   "metadata": {},
   "outputs": [
    {
     "name": "stdout",
     "output_type": "stream",
     "text": [
      "El resultado de elevar 0 a la tercera potencia es  0\n",
      "El resultado de elevar 1 a la tercera potencia es  1\n",
      "El resultado de elevar 2 a la tercera potencia es  8\n",
      "El resultado de elevar 3 a la tercera potencia es  27\n",
      "El resultado de elevar 4 a la tercera potencia es  64\n",
      "El resultado de elevar 5 a la tercera potencia es  125\n"
     ]
    }
   ],
   "source": [
    "for i in range(0,6):\n",
    "  print( 'El resultado de elevar', str(i),'a la tercera potencia es ', str (i ** 3))"
   ]
  },
  {
   "cell_type": "code",
   "execution_count": 14,
   "metadata": {},
   "outputs": [
    {
     "name": "stdout",
     "output_type": "stream",
     "text": [
      "Ciclo número 0\n",
      "Ciclo número 1\n",
      "Ciclo número 2\n",
      "Ciclo número 3\n",
      "Ciclo número 4\n"
     ]
    }
   ],
   "source": [
    "a= 5\n",
    "for i in range(0,a):\n",
    "  print('Ciclo número', i)"
   ]
  },
  {
   "cell_type": "code",
   "execution_count": 23,
   "metadata": {},
   "outputs": [
    {
     "name": "stdout",
     "output_type": "stream",
     "text": [
      "El factorial es: 120\n"
     ]
    }
   ],
   "source": [
    "n = 5\n",
    "if (type(n)== int):\n",
    "  if (n > 0):\n",
    "    factorial = n\n",
    "    while (n > 2):\n",
    "      n = n-1\n",
    "      factorial= factorial *  n\n",
    "    print('El factorial es:', factorial)\n",
    "  else:\n",
    "    print('El número no es mayr a 0')\n",
    "else:\n",
    "  print( 'El número no es un entero')"
   ]
  },
  {
   "cell_type": "code",
   "execution_count": 4,
   "metadata": {},
   "outputs": [
    {
     "name": "stdout",
     "output_type": "stream",
     "text": [
      "Ciclo while número  2\n",
      "Ciclo for número  1\n",
      "Ciclo while número  3\n",
      "Ciclo for número  1\n",
      "Ciclo while número  3\n",
      "Ciclo for número  2\n",
      "Ciclo while número  4\n",
      "Ciclo for número  1\n",
      "Ciclo while número  4\n",
      "Ciclo for número  2\n",
      "Ciclo while número  4\n",
      "Ciclo for número  3\n"
     ]
    }
   ],
   "source": [
    "a=0\n",
    "while(a < 4):\n",
    "  a += 1\n",
    "  for i in range(1, a):\n",
    "    print ('Ciclo while número ', str(a))\n",
    "    print ('Ciclo for número ', str(i))"
   ]
  },
  {
   "cell_type": "code",
   "execution_count": 7,
   "metadata": {},
   "outputs": [
    {
     "name": "stdout",
     "output_type": "stream",
     "text": [
      "0\n",
      "1\n",
      "2\n",
      "3\n",
      "5\n",
      "7\n",
      "11\n",
      "13\n",
      "17\n",
      "19\n",
      "23\n",
      "29\n"
     ]
    }
   ],
   "source": [
    "max = 30\n",
    "n= 0 \n",
    "primo = True\n",
    "while (n < max):\n",
    "  for div in range (2,n):\n",
    "    if (n % div == 0):\n",
    "      primo = False\n",
    "  if (primo):\n",
    "    print (n)\n",
    "  else:\n",
    "    primo = True\n",
    "    \n",
    "  n+=1\n",
    "  "
   ]
  },
  {
   "cell_type": "code",
   "execution_count": 9,
   "metadata": {},
   "outputs": [
    {
     "name": "stdout",
     "output_type": "stream",
     "text": [
      "108 es divisible entre 12\n",
      "120 es divisible entre 12\n",
      "132 es divisible entre 12\n",
      "144 es divisible entre 12\n",
      "156 es divisible entre 12\n",
      "168 es divisible entre 12\n",
      "180 es divisible entre 12\n",
      "192 es divisible entre 12\n",
      "204 es divisible entre 12\n",
      "216 es divisible entre 12\n",
      "228 es divisible entre 12\n",
      "240 es divisible entre 12\n",
      "252 es divisible entre 12\n",
      "264 es divisible entre 12\n",
      "276 es divisible entre 12\n",
      "288 es divisible entre 12\n",
      "300 es divisible entre 12\n"
     ]
    }
   ],
   "source": [
    "n= 99\n",
    "while(n <= 300):\n",
    "  n+=1\n",
    "  if(n%12 != 0):\n",
    "    continue\n",
    "  print(n,'es divisible entre 12')"
   ]
  },
  {
   "cell_type": "code",
   "execution_count": 11,
   "metadata": {},
   "outputs": [
    {
     "name": "stdout",
     "output_type": "stream",
     "text": [
      "1\n",
      "¿Desea encontrar el siguiente número primo ?\n",
      "2\n",
      "¿Desea encontrar el siguiente número primo ?\n",
      "3\n",
      "¿Desea encontrar el siguiente número primo ?\n",
      "5\n",
      "¿Desea encontrar el siguiente número primo ?\n",
      "7\n",
      "¿Desea encontrar el siguiente número primo ?\n",
      "11\n",
      "¿Desea encontrar el siguiente número primo ?\n",
      "se finaliza el proceso\n"
     ]
    }
   ],
   "source": [
    "n=1\n",
    "sigue = 1\n",
    "primo = True\n",
    "while(sigue == 1):\n",
    "  for div in range ( 2, n):\n",
    "    if (n % div == 0):\n",
    "      primo = False\n",
    "      break\n",
    "  if (primo):\n",
    "    print (n)\n",
    "    print('¿Desea encontrar el siguiente número primo ?')\n",
    "    if (input() != '1'):\n",
    "      print( 'se finaliza el proceso')\n",
    "      break\n",
    "  else:\n",
    "    primo = True\n",
    "  n += 1  "
   ]
  }
 ],
 "metadata": {
  "interpreter": {
   "hash": "84ce06952b52acb5b719482c726aa8f1f0de530cee63389d2fd8051be28b06d5"
  },
  "kernelspec": {
   "display_name": "Python 3.10.2 64-bit",
   "language": "python",
   "name": "python3"
  },
  "language_info": {
   "codemirror_mode": {
    "name": "ipython",
    "version": 3
   },
   "file_extension": ".py",
   "mimetype": "text/x-python",
   "name": "python",
   "nbconvert_exporter": "python",
   "pygments_lexer": "ipython3",
   "version": "3.10.2"
  },
  "orig_nbformat": 4
 },
 "nbformat": 4,
 "nbformat_minor": 2
}
